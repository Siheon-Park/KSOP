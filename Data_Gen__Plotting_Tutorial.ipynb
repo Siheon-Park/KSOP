{
  "nbformat": 4,
  "nbformat_minor": 0,
  "metadata": {
    "kernelspec": {
      "display_name": "Python 3",
      "language": "python",
      "name": "python3"
    },
    "language_info": {
      "codemirror_mode": {
        "name": "ipython",
        "version": 3
      },
      "file_extension": ".py",
      "mimetype": "text/x-python",
      "name": "python",
      "nbconvert_exporter": "python",
      "pygments_lexer": "ipython3",
      "version": "3.6.9"
    },
    "colab": {
      "name": "Data Gen & Plotting Tutorial.ipynb",
      "provenance": []
    }
  },
  "cells": [
    {
      "cell_type": "code",
      "metadata": {
        "id": "zpsyM7mMiZxj",
        "colab_type": "code",
        "colab": {}
      },
      "source": [
        "import numpy as np\n",
        "import matplotlib.pyplot as plt"
      ],
      "execution_count": null,
      "outputs": []
    },
    {
      "cell_type": "markdown",
      "metadata": {
        "id": "0pZfRMLviZxn",
        "colab_type": "text"
      },
      "source": [
        "### Plotting Synthetic Data - Gaussian distribution\n",
        "\n",
        "**Objective:** Generate synthetic data that follows two different gaussian distributions with different mean and variance."
      ]
    },
    {
      "cell_type": "code",
      "metadata": {
        "id": "-Hi7UjEAiZxn",
        "colab_type": "code",
        "colab": {}
      },
      "source": [
        "# generate samples from normal distributions with two dimensional\n",
        "# size of samples\n",
        "n = 30\n",
        "X1 = np.random.normal(loc=(5, 10), scale=5, size=(n, 2)) # loc and scale indicate mean and variance\n",
        "X2 = np.random.normal(loc=(20, 20), scale=5, size=(n, 2)) # X1 and X2 have different mean\n",
        "Y1 = np.ones(n)\n",
        "Y2 = np.ones(n) * -1                      # labeling as 1 for X1 and -1 for X2"
      ],
      "execution_count": null,
      "outputs": []
    },
    {
      "cell_type": "code",
      "metadata": {
        "id": "52p9CV7siZxq",
        "colab_type": "code",
        "colab": {}
      },
      "source": [
        "# concatenate X1 and X2\n",
        "X_train = np.concatenate((X1, X2))\n",
        "Y_train = np.concatenate((Y1, Y2))\n",
        "X_train.shape  # sanity check for shape of the data array -> (number of samples, dimension)"
      ],
      "execution_count": null,
      "outputs": []
    },
    {
      "cell_type": "markdown",
      "metadata": {
        "id": "HHNvCImqiZxt",
        "colab_type": "text"
      },
      "source": [
        "### Plotting X_train data\n",
        "\n",
        "**Objective:** Plot the X_train with different colors correspoding to the labels (let 1 label to be blue and -1 to be red)\n",
        "\n",
        "Use ```plt.scatter()``` method to plot the sample points"
      ]
    },
    {
      "cell_type": "code",
      "metadata": {
        "id": "Mukb-16IiZxt",
        "colab_type": "code",
        "colab": {}
      },
      "source": [
        "# plot the samples without specifying color\n",
        "plt.scatter(X_train[:, 0].T, X_train[:, 1].T)\n",
        "plt.show()"
      ],
      "execution_count": null,
      "outputs": []
    },
    {
      "cell_type": "code",
      "metadata": {
        "id": "CMv7QTETiZxw",
        "colab_type": "code",
        "colab": {}
      },
      "source": [
        "# We can specify the color , edgecolor, legend, and point size.\n",
        "# 'b' and 'k' means blue and black, s is fontsize (sample point size)\n",
        "plt.scatter(X_train[:, 0].T, X_train[:, 1].T, color='b', edgecolor='k', label='sample points', s=35) \n",
        "plt.grid(True)  # grid on\n",
        "plt.legend()    # display the label ('sample points')\n",
        "plt.show()"
      ],
      "execution_count": null,
      "outputs": []
    },
    {
      "cell_type": "code",
      "metadata": {
        "id": "CtNWcwijiZxz",
        "colab_type": "code",
        "colab": {}
      },
      "source": [
        "# Plot the samples with color corresponding to the 1, -1 label by using mask indexing\n",
        "plt.scatter(X_train[Y_train==1][:, 0].T, X_train[Y_train==1][:, 1].T, color='b', edgecolor='k', label='label : 1', s=35)\n",
        "plt.scatter(X_train[Y_train==-1][:, 0].T, X_train[Y_train==-1][:, 1].T, color='r', edgecolor='k', label='label : -1', s=35)\n",
        "plt.grid(True)\n",
        "plt.legend()\n",
        "plt.show()"
      ],
      "execution_count": null,
      "outputs": []
    },
    {
      "cell_type": "markdown",
      "metadata": {
        "id": "IkkA69WniZx1",
        "colab_type": "text"
      },
      "source": [
        "### Plotting Arbitrary Linear Boundary\n",
        "\n",
        "**objective:** understand ```np.meshgrid()``` method and draw boundary by using it\n",
        "\n",
        "Assume that the boundary is of the form:\n",
        "$ax_1+bx_2 + c = 0$ where $a, b$ and $c$ are arbitrary in this case. (are not learned yet) \n",
        "\n",
        "We must plot this boundary based on whether $ax_1+bx_2 + c = 0$ or not for all the sample points $(x_1, x_2)\\in \\mathcal{X}_1\\times\\mathcal{X}_2$. Therefore, we need to prepare all the grid point of 2D dimensional space and compute $ax_1+bx_2 + c$ for all grids. This is what we will do using ```np.meshgrid()``` method."
      ]
    },
    {
      "cell_type": "code",
      "metadata": {
        "id": "VXNXxtXqiZx2",
        "colab_type": "code",
        "colab": {}
      },
      "source": [
        "# specify the min max value of x-axis and y-axis for meshgrids\n",
        "x_min, x_max = -30, 30\n",
        "y_min, y_max = -30, 30\n",
        "xx, yy = np.meshgrid(np.linspace(x_min, x_max, 30), np.linspace(y_min, y_max, 30)) # 30 grids for each axis\n",
        "grids = np.c_[xx.ravel(), yy.ravel()]\n",
        "grids.shape # total 30 x 30 = 900 grid points"
      ],
      "execution_count": null,
      "outputs": []
    },
    {
      "cell_type": "code",
      "metadata": {
        "id": "OgX5MLkmiZx6",
        "colab_type": "code",
        "colab": {}
      },
      "source": [
        "# initialize a, b and c with arbitrary number\n",
        "ab = np.random.normal(size=(2))\n",
        "c = np.random.normal(size=(1))"
      ],
      "execution_count": null,
      "outputs": []
    },
    {
      "cell_type": "code",
      "metadata": {
        "id": "BknIyBGUiZx8",
        "colab_type": "code",
        "colab": {}
      },
      "source": [
        "# compute ax_1 + bx_2 + c for all grids\n",
        "Z = grids@ab + c\n",
        "plt.contour(xx, yy, Z.reshape(xx.shape), levels=[0], colors='k') # draw boundary based on whether Z is equal to 0\n",
        "plt.show()"
      ],
      "execution_count": null,
      "outputs": []
    },
    {
      "cell_type": "code",
      "metadata": {
        "id": "lmjdEYoEiZx-",
        "colab_type": "code",
        "colab": {}
      },
      "source": [
        "# Draw with colormap\n",
        "plt.contour(xx, yy, Z.reshape(xx.shape), levels=[0], colors='k')\n",
        "plt.contourf(xx, yy, Z.reshape(xx.shape), cmap='RdBu', alpha=0.7)\n",
        "plt.show()"
      ],
      "execution_count": null,
      "outputs": []
    },
    {
      "cell_type": "markdown",
      "metadata": {
        "id": "fj5QAbzUiZyB",
        "colab_type": "text"
      },
      "source": [
        "**Merge all the plots for data points and boundary**"
      ]
    },
    {
      "cell_type": "code",
      "metadata": {
        "id": "tllUlquliZyB",
        "colab_type": "code",
        "colab": {}
      },
      "source": [
        "# initialize a, b and c with arbitrary number\n",
        "ab = np.array([-0.4, -0.3])\n",
        "c = np.array([8])\n",
        "\n",
        "# Plot the samples with color corresponding to the 1, -1 label by using mask indexing\n",
        "plt.scatter(X_train[Y_train==1][:, 0].T, X_train[Y_train==1][:, 1].T, color='b', edgecolor='k', label='label : 1', s=35)\n",
        "plt.scatter(X_train[Y_train==-1][:, 0].T, X_train[Y_train==-1][:, 1].T, color='r', edgecolor='k', label='label : -1', s=35)\n",
        "plt.grid(True)\n",
        "plt.legend()\n",
        "\n",
        "axes = plt.gca() # get current axes object (similar to MATLAB plot)\n",
        "x_min, x_max = axes.get_xlim() \n",
        "y_min, y_max = axes.get_ylim() # get min max value for each axis of current plot\n",
        "\n",
        "xx, yy = np.meshgrid(np.linspace(x_min, x_max, 30), np.linspace(y_min, y_max, 30)) # 30 grids for each axis\n",
        "grids = np.c_[xx.ravel(), yy.ravel()]\n",
        "Z = grids@ab + c\n",
        "\n",
        "plt.contour(xx, yy, Z.reshape(xx.shape), levels=[0], colors='k')\n",
        "plt.contourf(xx, yy, Z.reshape(xx.shape), cmap='RdBu', alpha=0.7)  # draw colormap if you want\n",
        "\n",
        "plt.show()"
      ],
      "execution_count": null,
      "outputs": []
    },
    {
      "cell_type": "markdown",
      "metadata": {
        "id": "HvjIitf9iZyE",
        "colab_type": "text"
      },
      "source": [
        "### Exercise 1) Draw Perpendicular Equidistant Line between Two Points"
      ]
    },
    {
      "cell_type": "code",
      "metadata": {
        "id": "GT8C8MlZiZyF",
        "colab_type": "code",
        "colab": {}
      },
      "source": [
        "# Given two points x y\n",
        "A = np.array([5, 10])\n",
        "B = np.array([20, 20])\n",
        "A, B"
      ],
      "execution_count": null,
      "outputs": []
    },
    {
      "cell_type": "code",
      "metadata": {
        "id": "YY0n4DgGiZyH",
        "colab_type": "code",
        "colab": {}
      },
      "source": [
        "# plot two points\n",
        "xlim = (0, 25)\n",
        "ylim = (0, 30)\n",
        "\n",
        "plt.scatter(A[0], A[1], color='b', edgecolor='k', label='A', s=50)\n",
        "plt.scatter(B[0], B[1], color='r', edgecolor='k', label='B', s=50)\n",
        "plt.legend()\n",
        "plt.grid(True)\n",
        "plt.xlim(*xlim)\n",
        "plt.ylim(*ylim)\n",
        "plt.show()"
      ],
      "execution_count": null,
      "outputs": []
    },
    {
      "cell_type": "code",
      "metadata": {
        "id": "Rs4xi2gViZyJ",
        "colab_type": "code",
        "colab": {}
      },
      "source": [
        "# define functions for checking which point is the nearest point from itself given any samples.\n",
        "# return 0 if the A is closest point and 1 otherwise\n",
        "def nearest(A, B, sample):\n",
        "    dist_A = np.linalg.norm(A - sample)  # compute euclidean distance\n",
        "    dist_B = np.linalg.norm(B - sample)\n",
        "    if dist_A < dist_B:\n",
        "        return 0  \n",
        "    else:\n",
        "        return 1"
      ],
      "execution_count": null,
      "outputs": []
    },
    {
      "cell_type": "code",
      "metadata": {
        "id": "4pL_sEsQiZyM",
        "colab_type": "code",
        "colab": {}
      },
      "source": [
        "# plot two points\n",
        "plt.scatter(A[0], A[1], color='b', edgecolor='k', label='A', s=50)\n",
        "plt.scatter(B[0], B[1], color='r', edgecolor='k', label='B', s=50)\n",
        "plt.legend()\n",
        "plt.grid(True)\n",
        "plt.xlim(*xlim)\n",
        "plt.ylim(*ylim)\n",
        "\n",
        "xx, yy = np.meshgrid(np.linspace(*xlim, 500), np.linspace(*ylim, 500)) # 500 grids for each axis\n",
        "grids = np.c_[xx.ravel(), yy.ravel()]\n",
        "\n",
        "Z = []\n",
        "# return the closest point from each grid points\n",
        "# we compute closest point one by one iteratively using \"for\" loop which may cause heavy computational load\n",
        "for sample in grids:\n",
        "    corr_label = nearest(A, B, sample)\n",
        "    Z.append(corr_label)\n",
        "\n",
        "Z = np.array(Z).reshape(xx.shape)\n",
        "\n",
        "# plot the equidistant line\n",
        "plt.contour(xx, yy, Z, levels=[0.5], colors='k') \n",
        "plt.show()"
      ],
      "execution_count": null,
      "outputs": []
    },
    {
      "cell_type": "markdown",
      "metadata": {
        "id": "VRy2wQVWiZyO",
        "colab_type": "text"
      },
      "source": [
        "### Exercise 2) Draw Equidistant Boundary between \"Three\" Centroids from Normal Distribution Data\n",
        "\n",
        "**Definition of Centroids:** Mean position(center of mass) of all the data points which belongs to the same clustering (distribution)"
      ]
    },
    {
      "cell_type": "code",
      "metadata": {
        "id": "cFgqiyxwiZyO",
        "colab_type": "code",
        "colab": {}
      },
      "source": [
        "# generate samples from three different normal distributions\n",
        "# size of samples\n",
        "n = 30\n",
        "X1 = np.random.normal(loc=(5, -5), scale=5, size=(n, 2)) # loc and scale indicate mean and variance\n",
        "X2 = np.random.normal(loc=(20, 20), scale=5, size=(n, 2))\n",
        "X3 = np.random.normal(loc=(-20, 20), scale=5, size=(n, 2))\n",
        "\n",
        "# concatenate X1 and X2\n",
        "X_total = np.concatenate((X1, X2, X3))\n",
        "X_total.shape  # sanity check for shape of the data array -> (number of samples, dimension)"
      ],
      "execution_count": null,
      "outputs": []
    },
    {
      "cell_type": "code",
      "metadata": {
        "id": "KlCtHpQgiZyR",
        "colab_type": "code",
        "colab": {}
      },
      "source": [
        "# Plot the samples with color corresponding to each gaussian distributions\n",
        "plt.scatter(X1[:, 0].T, X1[:, 1].T, color='b', edgecolor='k', label='X1', s=35)\n",
        "plt.scatter(X2[:, 0].T, X2[:, 1].T, color='r', edgecolor='k', label='X2', s=35)\n",
        "plt.scatter(X3[:, 0].T, X3[:, 1].T, color='g', edgecolor='k', label='X3', s=35)\n",
        "plt.grid(True)\n",
        "plt.legend(loc='lower left')\n",
        "plt.show()"
      ],
      "execution_count": null,
      "outputs": []
    },
    {
      "cell_type": "code",
      "metadata": {
        "id": "MI9qTOXQiZyU",
        "colab_type": "code",
        "colab": {}
      },
      "source": [
        "# plot with centroids\n",
        "X1_centr = np.mean(X1, axis=0, keepdims=True)  # compute the centroid\n",
        "X2_centr = np.mean(X2, axis=0, keepdims=True)\n",
        "X3_centr = np.mean(X3, axis=0, keepdims=True)\n",
        "centrs = np.concatenate([X1_centr, X2_centr, X3_centr])\n",
        "\n",
        "plt.scatter(X1[:, 0].T, X1[:, 1].T, color='b', edgecolor='k', label='X1', s=35)\n",
        "plt.scatter(X2[:, 0].T, X2[:, 1].T, color='r', edgecolor='k', label='X2', s=35)\n",
        "plt.scatter(X3[:, 0].T, X3[:, 1].T, color='g', edgecolor='k', label='X3', s=35)\n",
        "\n",
        "# Plot the centroids\n",
        "plt.scatter(centrs[:, 0].T, centrs[:, 1].T, color='c', edgecolor='k', marker='*', label='centroids', s=200)\n",
        "\n",
        "plt.legend(loc='lower left')\n",
        "plt.show()"
      ],
      "execution_count": null,
      "outputs": []
    },
    {
      "cell_type": "code",
      "metadata": {
        "id": "w3Mx8jV5iZyW",
        "colab_type": "code",
        "colab": {}
      },
      "source": [
        "# Unlike the above, this function is given the set of all grid points, not one by one.\n",
        "def nearest_centr(centroids, grids):\n",
        "    '''\n",
        "    centroids: [N1, D], N1 = number of centroids\n",
        "    grids: [N2, D],     N2 = number of grids\n",
        "    outptus: [N2] -> closest centroid(index) from each grid points\n",
        "    '''\n",
        "    # compute eucliean distance using BroadCasting without any loop\n",
        "    ### START CODE HERE ###\n",
        "    \n",
        "    ### END CODE HERE ###\n",
        "    return outputs"
      ],
      "execution_count": null,
      "outputs": []
    },
    {
      "cell_type": "code",
      "metadata": {
        "id": "z8AQsyC9iZyY",
        "colab_type": "code",
        "colab": {}
      },
      "source": [
        "# plot with centroids\n",
        "X1_centr = np.mean(X1, axis=0, keepdims=True)  # compute the centroid\n",
        "X2_centr = np.mean(X2, axis=0, keepdims=True)\n",
        "X3_centr = np.mean(X3, axis=0, keepdims=True)\n",
        "centrs = np.concatenate([X1_centr, X2_centr, X3_centr])\n",
        "\n",
        "plt.scatter(X1[:, 0].T, X1[:, 1].T, color='b', edgecolor='k', label='X1', s=35)\n",
        "plt.scatter(X2[:, 0].T, X2[:, 1].T, color='r', edgecolor='k', label='X2', s=35)\n",
        "plt.scatter(X3[:, 0].T, X3[:, 1].T, color='g', edgecolor='k', label='X3', s=35)\n",
        "\n",
        "# Plot the centroids\n",
        "plt.scatter(centrs[:, 0].T, centrs[:, 1].T, color='c', edgecolor='k', marker='*', label='centroids', s=200)\n",
        "\n",
        "# generate meshgrids\n",
        "axes = plt.gca()\n",
        "xlim = axes.get_xlim()\n",
        "ylim = axes.get_ylim()\n",
        "xx, yy = np.meshgrid(np.linspace(*xlim, 500), np.linspace(*ylim, 500)) # 500 grids for each axis\n",
        "grids = np.c_[xx.ravel(), yy.ravel()]\n",
        "\n",
        "Z = nearest_centr(centrs, grids).reshape(xx.shape)\n",
        "\n",
        "# plot the equidistant line\n",
        "plt.contour(xx, yy, Z, colors='k') \n",
        "plt.legend(loc='lower left')\n",
        "plt.show()"
      ],
      "execution_count": null,
      "outputs": []
    },
    {
      "cell_type": "code",
      "metadata": {
        "id": "LuWOY01RiZya",
        "colab_type": "code",
        "colab": {}
      },
      "source": [
        ""
      ],
      "execution_count": null,
      "outputs": []
    }
  ]
}